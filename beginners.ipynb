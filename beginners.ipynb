{
 "cells": [
  {
   "cell_type": "code",
   "execution_count": 6,
   "metadata": {},
   "outputs": [
    {
     "name": "stdout",
     "output_type": "stream",
     "text": [
      "2\n",
      "4\n"
     ]
    }
   ],
   "source": [
    "array = [12, 16, 16]\n",
    "array.append(13)\n",
    "\n",
    "print(array.count(16))\n",
    "\n",
    "# for i in array:\n",
    "#     print(i)\n",
    "\n",
    "# del array[1]\n",
    "\n",
    "# print(array)\n",
    "# print(array[0])\n",
    "# array.insert(1, 15)\n",
    "# print(array)\n",
    "\n",
    "print(len(array))"
   ]
  },
  {
   "cell_type": "code",
   "execution_count": 12,
   "metadata": {},
   "outputs": [],
   "source": [
    "def positive_sum(array) -> int:\n",
    "    return sum(x for x in array if x > 0)\n"
   ]
  },
  {
   "cell_type": "code",
   "execution_count": 13,
   "metadata": {},
   "outputs": [
    {
     "name": "stdout",
     "output_type": "stream",
     "text": [
      "[2, 5, 100, 3]\n"
     ]
    },
    {
     "data": {
      "text/plain": [
       "110"
      ]
     },
     "execution_count": 13,
     "metadata": {},
     "output_type": "execute_result"
    }
   ],
   "source": [
    "positive_sum([2, 5, -3, -2, 0, 100, 3])"
   ]
  },
  {
   "cell_type": "code",
   "execution_count": 11,
   "metadata": {},
   "outputs": [
    {
     "name": "stdout",
     "output_type": "stream",
     "text": [
      "15\n"
     ]
    }
   ],
   "source": [
    "x = True\n",
    "print(\"hello\" if x else \"there\")"
   ]
  },
  {
   "cell_type": "code",
   "execution_count": 15,
   "metadata": {},
   "outputs": [
    {
     "name": "stdout",
     "output_type": "stream",
     "text": [
      "36\n"
     ]
    }
   ],
   "source": [
    "my_function = lambda x, y: x * y\n",
    "print(my_function(6, 6))"
   ]
  },
  {
   "cell_type": "code",
   "execution_count": 21,
   "metadata": {},
   "outputs": [
    {
     "name": "stdout",
     "output_type": "stream",
     "text": [
      "car: Toyota Mirai (2021)\n",
      "2021\n",
      "car: Lucid Gravity (2023)\n",
      "car: Toyota Mirai (2021)\n"
     ]
    }
   ],
   "source": [
    "from dataclasses import dataclass\n",
    "\n",
    "@dataclass\n",
    "class Car:\n",
    "    make: str\n",
    "    model: str\n",
    "    year: int\n",
    "\n",
    "    # def __init__(self, make, model, year) -> None:\n",
    "    #     self.make = make\n",
    "    #     self.model = model\n",
    "    #     self.year = year\n",
    "    \n",
    "    def __str__(self) -> str:\n",
    "        return f\"car: {self.make} {self.model} ({self.year})\"\n",
    "\n",
    "car = Car(\"Toyota\", \"Mirai\", 2021)\n",
    "print(car)\n",
    "print(car.year)\n",
    "\n",
    "car_b = Car(\"Lucid\", \"Air\", 2023)\n",
    "car_b.model = \"Gravity\"\n",
    "print(car_b)\n",
    "print(car)"
   ]
  },
  {
   "cell_type": "code",
   "execution_count": null,
   "metadata": {},
   "outputs": [],
   "source": []
  }
 ],
 "metadata": {
  "kernelspec": {
   "display_name": "Python 3",
   "language": "python",
   "name": "python3"
  },
  "language_info": {
   "codemirror_mode": {
    "name": "ipython",
    "version": 3
   },
   "file_extension": ".py",
   "mimetype": "text/x-python",
   "name": "python",
   "nbconvert_exporter": "python",
   "pygments_lexer": "ipython3",
   "version": "3.13.0"
  }
 },
 "nbformat": 4,
 "nbformat_minor": 2
}
